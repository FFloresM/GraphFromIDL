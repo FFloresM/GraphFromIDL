{
 "cells": [
  {
   "cell_type": "code",
   "execution_count": 1,
   "metadata": {},
   "outputs": [],
   "source": [
    "import string, re\n",
    "import nltk\n",
    "from nltk import word_tokenize\n",
    "import pandas as pd\n",
    "import numpy as np"
   ]
  },
  {
   "cell_type": "code",
   "execution_count": 2,
   "metadata": {},
   "outputs": [],
   "source": [
    "def tokens(texto):\n",
    "    \"\"\"Retorna una lista con los tokens de texto\"\"\"\n",
    "    texto = texto.lower() #convevrtir a minuscula\n",
    "    texto = re.sub(r'\\d+', '', texto)\n",
    "    texto = texto.translate(str.maketrans('','', string.punctuation)) #eliminar puntuacion\n",
    "    #texto = texto.strip() #remove whitspaces at begin and end\n",
    "    return word_tokenize(texto)"
   ]
  },
  {
   "cell_type": "code",
   "execution_count": 26,
   "metadata": {},
   "outputs": [],
   "source": [
    "#falta ignorar espacios\n",
    "file = \"segundo.txt\"\n",
    "texto = \"\"\n",
    "with open(file, encoding='latin_1') as csvfile:\n",
    "    texto = csvfile.read()\n",
    "    csvfile.seek(0)\n",
    "    lineas = csvfile.readlines()"
   ]
  },
  {
   "cell_type": "code",
   "execution_count": 22,
   "metadata": {},
   "outputs": [],
   "source": [
    "tokens_texto= tokens(texto)\n",
    "texto_fd = nltk.FreqDist(tokens_texto)"
   ]
  },
  {
   "cell_type": "markdown",
   "metadata": {},
   "source": [
    "## Por categoría (n=5)"
   ]
  },
  {
   "cell_type": "code",
   "execution_count": 23,
   "metadata": {},
   "outputs": [],
   "source": [
    "data_linea = {i:[] for i in range(1,6)} #Todos los datos por categoría\n",
    "data_linea_raw = {i:[] for i in range(1,6)} #Todos los datos por categoría texto\n",
    "n=5 #numero de categorías\n",
    "j=0\n",
    "code_sexo= {'1':'masculino', '2':'femenino'}\n",
    "code_colegio = {'1':'publico', '2':'pagado', '3':'subencionado'}\n",
    "for i,linea in enumerate(lineas):\n",
    "    if i%5==0:\n",
    "        j=0\n",
    "    data_linea[j+1].append(tokens(linea)) #tokens por linea\n",
    "    data_linea_raw[j+1].append(re.sub(r'\\d+', '', linea)) #texto por linea\n",
    "    #code = linea.split()[0]\n",
    "    #label = code_edad[code[2]] + code_nivel[code[4]]\n",
    "    #labels[j+1].append(label)\n",
    "    j+=1"
   ]
  },
  {
   "cell_type": "code",
   "execution_count": 27,
   "metadata": {},
   "outputs": [],
   "source": [
    "data_cat ={i:[] for i in range(1,6)}  #tokens para FreqDist\n",
    "for categoria in data_linea:\n",
    "    data_i = [] #tokens por categoría\n",
    "    for linea in data_linea[categoria]:\n",
    "        data_i+=linea\n",
    "    data_cat[categoria] += data_i"
   ]
  },
  {
   "cell_type": "code",
   "execution_count": 31,
   "metadata": {},
   "outputs": [],
   "source": [
    "freqdist_cat = {i:[] for i in range(1,6)} #Frecuencias de tokens\n",
    "for cat in data_cat:\n",
    "    freqdist_cat[cat] = nltk.FreqDist(data_cat[cat])"
   ]
  },
  {
   "cell_type": "markdown",
   "metadata": {},
   "source": [
    "## n-grams"
   ]
  },
  {
   "cell_type": "code",
   "execution_count": 33,
   "metadata": {},
   "outputs": [
    {
     "ename": "ModuleNotFoundError",
     "evalue": "No module named 'networkx'",
     "output_type": "error",
     "traceback": [
      "\u001b[0;31m---------------------------------------------------------------------------\u001b[0m",
      "\u001b[0;31mModuleNotFoundError\u001b[0m                       Traceback (most recent call last)",
      "\u001b[0;32m<ipython-input-33-2d97b0022012>\u001b[0m in \u001b[0;36m<module>\u001b[0;34m\u001b[0m\n\u001b[1;32m      1\u001b[0m \u001b[0;32mfrom\u001b[0m \u001b[0mnltk\u001b[0m\u001b[0;34m.\u001b[0m\u001b[0mutil\u001b[0m \u001b[0;32mimport\u001b[0m \u001b[0mngrams\u001b[0m\u001b[0;34m\u001b[0m\u001b[0;34m\u001b[0m\u001b[0m\n\u001b[0;32m----> 2\u001b[0;31m \u001b[0;32mimport\u001b[0m \u001b[0mnetworkx\u001b[0m \u001b[0;32mas\u001b[0m \u001b[0mnx\u001b[0m\u001b[0;34m\u001b[0m\u001b[0;34m\u001b[0m\u001b[0m\n\u001b[0m",
      "\u001b[0;31mModuleNotFoundError\u001b[0m: No module named 'networkx'"
     ]
    }
   ],
   "source": [
    "from nltk.util import ngrams\n",
    "import networkx as nx"
   ]
  }
 ],
 "metadata": {
  "kernelspec": {
   "display_name": "Python 3",
   "language": "python",
   "name": "python3"
  },
  "language_info": {
   "codemirror_mode": {
    "name": "ipython",
    "version": 3
   },
   "file_extension": ".py",
   "mimetype": "text/x-python",
   "name": "python",
   "nbconvert_exporter": "python",
   "pygments_lexer": "ipython3",
   "version": "3.8.5"
  }
 },
 "nbformat": 4,
 "nbformat_minor": 4
}
