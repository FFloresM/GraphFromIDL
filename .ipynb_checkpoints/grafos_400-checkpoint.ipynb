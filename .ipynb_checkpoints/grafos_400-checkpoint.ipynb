{
 "cells": [
  {
   "cell_type": "code",
   "execution_count": 1,
   "metadata": {},
   "outputs": [],
   "source": [
    "import string, re\n",
    "import nltk\n",
    "from nltk import word_tokenize\n",
    "import pandas as pd\n",
    "import numpy as np"
   ]
  },
  {
   "cell_type": "code",
   "execution_count": 2,
   "metadata": {},
   "outputs": [],
   "source": [
    "def tokens(texto):\n",
    "    \"\"\"Retorna una lista con los tokens de texto\"\"\"\n",
    "    texto = texto.lower() #convevrtir a minuscula\n",
    "    texto = re.sub(r'\\d+', '', texto)\n",
    "    texto = texto.translate(str.maketrans('','', string.punctuation)) #eliminar puntuacion\n",
    "    #texto = texto.strip() #remove whitspaces at begin and end\n",
    "    return word_tokenize(texto)"
   ]
  },
  {
   "cell_type": "code",
   "execution_count": 4,
   "metadata": {},
   "outputs": [],
   "source": [
    "#falta ignorar espacios\n",
    "file = \"400finito.txt\"\n",
    "texto = \"\"\n",
    "with open(file, encoding='latin-1') as csvfile:\n",
    "    texto = csvfile.read()\n",
    "    csvfile.seek(0)\n",
    "    lineas = csvfile.readlines()"
   ]
  },
  {
   "cell_type": "code",
   "execution_count": null,
   "metadata": {},
   "outputs": [],
   "source": [
    "tokens_texto= tokens(texto)\n",
    "texto_fd = nltk.FreqDist(tokens_texto)"
   ]
  },
  {
   "cell_type": "markdown",
   "metadata": {},
   "source": [
    "## Por categoría (n=5)"
   ]
  },
  {
   "cell_type": "code",
   "execution_count": 150,
   "metadata": {},
   "outputs": [],
   "source": [
    "masc = '1' #masculino\n",
    "fem = '2' #femenino\n",
    "data_linea = {i:[] for i in range(1,6)} #Todos los datos por categoría\n",
    "data_linea_raw = {i:[] for i in range(1,6)} #Todos los datos por categoría texto\n",
    "\n",
    "n=5 #numero de categorías\n",
    "j=0\n",
    "code_sexo= {'1':'masculino', '2':'femenino'}\n",
    "code_colegio = {'1':'publico', '2':'pagado', '3':'subencionado'}\n",
    "for i,linea in enumerate(lineas):\n",
    "    if i%5==0:\n",
    "        j=0\n",
    "    code = linea.split()[0][0]\n",
    "    if code == fem:\n",
    "        data_linea[j+1].append(tokens(linea)) #tokens por linea\n",
    "        data_linea_raw[j+1].append(re.sub(r'\\d+', '', linea)) #texto por linea\n",
    "    j+=1"
   ]
  },
  {
   "cell_type": "code",
   "execution_count": 151,
   "metadata": {},
   "outputs": [],
   "source": [
    "data_cat ={i:[] for i in range(1,6)}  #tokens para FreqDist\n",
    "for categoria in data_linea:\n",
    "    data_i = [] #tokens por categoría\n",
    "    for linea in data_linea[categoria]:\n",
    "        data_i+=linea\n",
    "    data_cat[categoria] += data_i"
   ]
  },
  {
   "cell_type": "code",
   "execution_count": 152,
   "metadata": {},
   "outputs": [],
   "source": [
    "freqdist_cat = {i:[] for i in range(1,6)} #Frecuencias de tokens\n",
    "for cat in data_cat:\n",
    "    freqdist_cat[cat] = nltk.FreqDist(data_cat[cat])"
   ]
  },
  {
   "cell_type": "markdown",
   "metadata": {},
   "source": [
    "## n-grams"
   ]
  },
  {
   "cell_type": "code",
   "execution_count": 141,
   "metadata": {},
   "outputs": [],
   "source": [
    "from nltk.util import ngrams\n",
    "import networkx as nx"
   ]
  },
  {
   "cell_type": "markdown",
   "metadata": {},
   "source": [
    "DataFrame para cada categoría con bigramas para plotear grafo"
   ]
  },
  {
   "cell_type": "code",
   "execution_count": 153,
   "metadata": {},
   "outputs": [],
   "source": [
    "data_cat_ngrams = {} #ngrams para cada categoría\n",
    "data_cat_fd = {} #FreqDist para cada categoria\n",
    "for cat in data_cat:\n",
    "    n_grams = ngrams(data_cat[cat], 2)\n",
    "    data_cat_ngrams[cat] = [ ' '.join(grams) for grams in n_grams]\n",
    "    data_cat_fd[cat] = nltk.FreqDist(data_cat_ngrams[cat])"
   ]
  },
  {
   "cell_type": "markdown",
   "metadata": {},
   "source": [
    "DataFrame para cada categoría con bigramas para plotear grafo"
   ]
  },
  {
   "cell_type": "code",
   "execution_count": 154,
   "metadata": {},
   "outputs": [],
   "source": [
    "data_cat_fd_dataframe = {} #dataframe con frecuencias de bigrams para cada categoria\n",
    "for k in data_cat_fd:\n",
    "    fd_sorted = {k: v for k, v in sorted(data_cat_fd[k].items(), key=lambda item: item[1], reverse=True)}\n",
    "    keys = list(fd_sorted.keys())\n",
    "    freq = list(fd_sorted.values())\n",
    "    origen = [bigram.split()[0] for bigram in keys]\n",
    "    destino = [bigram.split()[1] for bigram in keys]\n",
    "    #n = list(data_cat_fd[k].values())\n",
    "    data = {\n",
    "        \"origen\": origen,\n",
    "        \"destino\": destino,\n",
    "        \"n\": freq\n",
    "    }\n",
    "    data_cat_fd_dataframe[k] = pd.DataFrame(data) #dataframe por categoria para crear grafo "
   ]
  },
  {
   "cell_type": "code",
   "execution_count": 155,
   "metadata": {},
   "outputs": [
    {
     "data": {
      "text/html": [
       "<div>\n",
       "<style scoped>\n",
       "    .dataframe tbody tr th:only-of-type {\n",
       "        vertical-align: middle;\n",
       "    }\n",
       "\n",
       "    .dataframe tbody tr th {\n",
       "        vertical-align: top;\n",
       "    }\n",
       "\n",
       "    .dataframe thead th {\n",
       "        text-align: right;\n",
       "    }\n",
       "</style>\n",
       "<table border=\"1\" class=\"dataframe\">\n",
       "  <thead>\n",
       "    <tr style=\"text-align: right;\">\n",
       "      <th></th>\n",
       "      <th>origen</th>\n",
       "      <th>destino</th>\n",
       "      <th>n</th>\n",
       "    </tr>\n",
       "  </thead>\n",
       "  <tbody>\n",
       "    <tr>\n",
       "      <th>0</th>\n",
       "      <td>nariz</td>\n",
       "      <td>boca</td>\n",
       "      <td>21</td>\n",
       "    </tr>\n",
       "    <tr>\n",
       "      <th>1</th>\n",
       "      <td>ojo</td>\n",
       "      <td>nariz</td>\n",
       "      <td>20</td>\n",
       "    </tr>\n",
       "    <tr>\n",
       "      <th>2</th>\n",
       "      <td>ojo</td>\n",
       "      <td>boca</td>\n",
       "      <td>18</td>\n",
       "    </tr>\n",
       "    <tr>\n",
       "      <th>3</th>\n",
       "      <td>brazo</td>\n",
       "      <td>pierna</td>\n",
       "      <td>16</td>\n",
       "    </tr>\n",
       "    <tr>\n",
       "      <th>4</th>\n",
       "      <td>mano</td>\n",
       "      <td>dedo</td>\n",
       "      <td>16</td>\n",
       "    </tr>\n",
       "    <tr>\n",
       "      <th>5</th>\n",
       "      <td>corazon</td>\n",
       "      <td>pulmon</td>\n",
       "      <td>15</td>\n",
       "    </tr>\n",
       "    <tr>\n",
       "      <th>6</th>\n",
       "      <td>boca</td>\n",
       "      <td>nariz</td>\n",
       "      <td>14</td>\n",
       "    </tr>\n",
       "    <tr>\n",
       "      <th>7</th>\n",
       "      <td>mano</td>\n",
       "      <td>pie</td>\n",
       "      <td>13</td>\n",
       "    </tr>\n",
       "    <tr>\n",
       "      <th>8</th>\n",
       "      <td>intestinogrueso</td>\n",
       "      <td>intestinodelgado</td>\n",
       "      <td>12</td>\n",
       "    </tr>\n",
       "    <tr>\n",
       "      <th>9</th>\n",
       "      <td>higado</td>\n",
       "      <td>pancreas</td>\n",
       "      <td>11</td>\n",
       "    </tr>\n",
       "  </tbody>\n",
       "</table>\n",
       "</div>"
      ],
      "text/plain": [
       "            origen           destino   n\n",
       "0            nariz              boca  21\n",
       "1              ojo             nariz  20\n",
       "2              ojo              boca  18\n",
       "3            brazo            pierna  16\n",
       "4             mano              dedo  16\n",
       "5          corazon            pulmon  15\n",
       "6             boca             nariz  14\n",
       "7             mano               pie  13\n",
       "8  intestinogrueso  intestinodelgado  12\n",
       "9           higado          pancreas  11"
      ]
     },
     "execution_count": 155,
     "metadata": {},
     "output_type": "execute_result"
    }
   ],
   "source": [
    "data_cat_fd_dataframe[1].head(10)"
   ]
  },
  {
   "cell_type": "code",
   "execution_count": 16,
   "metadata": {},
   "outputs": [],
   "source": [
    "from graphviz import *"
   ]
  },
  {
   "cell_type": "code",
   "execution_count": 160,
   "metadata": {},
   "outputs": [
    {
     "name": "stdout",
     "output_type": "stream",
     "text": [
      "out of for\n"
     ]
    },
    {
     "data": {
      "text/plain": [
       "'cuarto_femenino_quimica_3.gv'"
      ]
     },
     "execution_count": 160,
     "metadata": {},
     "output_type": "execute_result"
    }
   ],
   "source": [
    "centro = 5\n",
    "origen_ = list(data_cat_fd_dataframe[centro].origen)\n",
    "destino_ = list(data_cat_fd_dataframe[centro].destino)\n",
    "n_ = list(data_cat_fd_dataframe[centro].n)\n",
    "nombre = 'cuarto_femenino_quimica_3'\n",
    "dot = Digraph(name=nombre, comment='Grafo dirigido palabra por categoria')\n",
    "for o,d,i in zip(origen_, destino_, n_):\n",
    "    #if i>5:\n",
    "    dot.edge(o, d, label=str(i), weight=str(i))\n",
    "dot.attr(bgcolor='purple:pink', label='Categoría 1', fontcolor='white')\n",
    "print(\"out of for\")\n",
    "dot.save()"
   ]
  }
 ],
 "metadata": {
  "kernelspec": {
   "display_name": "Python 3",
   "language": "python",
   "name": "python3"
  },
  "language_info": {
   "codemirror_mode": {
    "name": "ipython",
    "version": 3
   },
   "file_extension": ".py",
   "mimetype": "text/x-python",
   "name": "python",
   "nbconvert_exporter": "python",
   "pygments_lexer": "ipython3",
   "version": "3.8.5"
  }
 },
 "nbformat": 4,
 "nbformat_minor": 4
}
